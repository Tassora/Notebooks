{
 "cells": [
  {
   "cell_type": "code",
   "execution_count": 1,
   "metadata": {},
   "outputs": [
    {
     "ename": "ModuleNotFoundError",
     "evalue": "No module named 'akshare'",
     "output_type": "error",
     "traceback": [
      "\u001b[1;31m---------------------------------------------------------------------------\u001b[0m",
      "\u001b[1;31mModuleNotFoundError\u001b[0m                       Traceback (most recent call last)",
      "Cell \u001b[1;32mIn[1], line 9\u001b[0m\n\u001b[0;32m      6\u001b[0m \u001b[38;5;28;01mfrom\u001b[39;00m\u001b[38;5;250m \u001b[39m\u001b[38;5;21;01mmpl_toolkits\u001b[39;00m\u001b[38;5;21;01m.\u001b[39;00m\u001b[38;5;21;01maxes_grid1\u001b[39;00m\u001b[38;5;21;01m.\u001b[39;00m\u001b[38;5;21;01minset_locator\u001b[39;00m\u001b[38;5;250m \u001b[39m\u001b[38;5;28;01mimport\u001b[39;00m inset_axes\n\u001b[0;32m      8\u001b[0m \u001b[38;5;28;01mfrom\u001b[39;00m\u001b[38;5;250m \u001b[39m\u001b[38;5;21;01mtqdm\u001b[39;00m\u001b[38;5;250m \u001b[39m\u001b[38;5;28;01mimport\u001b[39;00m tqdm\n\u001b[1;32m----> 9\u001b[0m \u001b[38;5;28;01mimport\u001b[39;00m\u001b[38;5;250m \u001b[39m\u001b[38;5;21;01makshare\u001b[39;00m\u001b[38;5;250m \u001b[39m\u001b[38;5;28;01mas\u001b[39;00m\u001b[38;5;250m \u001b[39m\u001b[38;5;21;01mak\u001b[39;00m\n\u001b[0;32m     10\u001b[0m \u001b[38;5;28;01mimport\u001b[39;00m\u001b[38;5;250m \u001b[39m\u001b[38;5;21;01mdatetime\u001b[39;00m\n\u001b[0;32m     11\u001b[0m \u001b[38;5;28;01mfrom\u001b[39;00m\u001b[38;5;250m \u001b[39m\u001b[38;5;21;01mmultiprocessing\u001b[39;00m\u001b[38;5;250m \u001b[39m\u001b[38;5;28;01mimport\u001b[39;00m Pool\n",
      "\u001b[1;31mModuleNotFoundError\u001b[0m: No module named 'akshare'"
     ]
    }
   ],
   "source": [
    "import pandas as pd\n",
    "import numpy as np\n",
    "import matplotlib.pyplot as plt\n",
    "import matplotlib\n",
    "import seaborn as sns\n",
    "from mpl_toolkits.axes_grid1.inset_locator import inset_axes\n",
    "\n",
    "from tqdm import tqdm\n",
    "import akshare as ak\n",
    "import datetime\n",
    "from multiprocessing import Pool\n",
    "from sklearn.metrics import confusion_matrix"
   ]
  },
  {
   "cell_type": "code",
   "execution_count": 2,
   "metadata": {},
   "outputs": [],
   "source": [
    "def MA_strategy(stockcode, show=0):\n",
    "    # 导入股票\n",
    "    try:\n",
    "        stock_code = ak.stock_zh_a_hist(symbol=stockcode, period=\"daily\", start_date='20200101', end_date='20250306', adjust=\"hfq\")[['日期','股票代码','开盘','收盘','最高','最低','成交量','成交额','换手率']]\n",
    "    except:\n",
    "        return stockcode, np.nan, np.nan, np.nan, np.nan\n",
    "    if len(stock_code)<100:\n",
    "        return stockcode, np.nan, np.nan, np.nan, np.nan\n",
    "    if (stock_code['收盘'] < 0).any():\n",
    "        return stockcode, np.nan, np.nan, np.nan, np.nan\n",
    "    \n",
    "    stock_code.rename(columns={'日期':'date','股票代码':'stockcode','成交量':'turnovervolumn','成交额':'turmovervalue','换手率':'turnoverrate',\n",
    "                                '开盘':'backward_openprice','收盘':'backward_closeprice','最高':'backward_highprice','最低':'backward_lowprice'},inplace=True)\n",
    "    stock_code['date'] = stock_code['date'].astype(str)\n",
    "    stock_code.set_index(['date','stockcode'],inplace=True)\n",
    "    stock_code.sort_index(inplace=True)\n",
    "\n",
    "    # 指标计算\n",
    "    stock_code['MA_5'] = stock_code['backward_closeprice'].rolling(window=5,min_periods=5).mean()\n",
    "    stock_code['MA_20'] = stock_code['backward_closeprice'].rolling(window=20,min_periods=20).mean()\n",
    "\n",
    "    # 策略回测\n",
    "    fund = 1\n",
    "    hold = 0\n",
    "    fund_list = []\n",
    "    hold_list = []\n",
    "    date_list = []\n",
    "    sign_list = []\n",
    "\n",
    "    for date in stock_code.index:\n",
    "        if pd.isna(stock_code.loc[date, 'MA_20']):\n",
    "            continue\n",
    "\n",
    "        if stock_code.loc[date,'MA_5'] > stock_code.loc[date,'MA_20']:\n",
    "            if hold == 0:\n",
    "                fund = fund\n",
    "                hold = fund / stock_code.loc[date,'backward_closeprice']\n",
    "                fund_list.append(fund)\n",
    "                hold_list.append(hold)\n",
    "                date_list.append(date[0])\n",
    "                sign_list.append(1)\n",
    "                continue\n",
    "\n",
    "            if hold != 0:\n",
    "                fund = hold * stock_code.loc[date,'backward_closeprice']\n",
    "                hold = hold\n",
    "                fund_list.append(fund)\n",
    "                hold_list.append(hold)\n",
    "                date_list.append(date[0])\n",
    "                sign_list.append(0)\n",
    "                continue\n",
    "\n",
    "        if stock_code.loc[date,'MA_5'] <= stock_code.loc[date,'MA_20']:\n",
    "            if hold == 0:\n",
    "                fund = fund\n",
    "                hold = 0\n",
    "                fund_list.append(fund)\n",
    "                hold_list.append(hold)\n",
    "                date_list.append(date[0])\n",
    "                sign_list.append(0)\n",
    "                continue\n",
    "\n",
    "            if hold != 0:\n",
    "                fund = hold * stock_code.loc[date,'backward_closeprice']\n",
    "                hold = 0\n",
    "                fund_list.append(fund)\n",
    "                hold_list.append(hold)\n",
    "                date_list.append(date[0])\n",
    "                sign_list.append(-1)\n",
    "                continue\n",
    "\n",
    "    # 计算回测收益\n",
    "    PnL = pd.DataFrame({'strategy':fund_list,'hold':hold_list,'sign':sign_list},  pd.MultiIndex.from_arrays([date_list, [stockcode] * len(date_list)],  names=['date', 'stock_code']))\n",
    "    PnL['price'] = stock_code['backward_closeprice']\n",
    "    PnL['price'] = PnL['price']/ PnL.loc[PnL.index[0],'price']\n",
    "\n",
    "    # 计算回测指标\n",
    "    returns = PnL['strategy'].pct_change().dropna()  # 计算每日收益率\n",
    "    annual_return = (PnL['strategy'].iloc[-1] / PnL['strategy'].iloc[0]) ** (252 / len(PnL)) - 1\n",
    "    annual_volatility = returns.std() * np.sqrt(252)\n",
    "    cum_max = PnL['strategy'].cummax()  # 计算累计最大净值\n",
    "    drawdown = PnL['strategy'] / cum_max - 1  # 计算回撤\n",
    "    max_drawdown = drawdown.min()  # 取最大回撤\n",
    "    sharpe_ratio = annual_return / annual_volatility if annual_volatility != 0 else np.nan\n",
    "\n",
    "    if show == 1:\n",
    "        # 策略结果可视化\n",
    "        fig, ax1 = plt.subplots(figsize=(20, 6))\n",
    "        df = PnL.copy(deep=True)\n",
    "        df.index = pd.MultiIndex.from_tuples([(pd.to_datetime(date), stock) for date, stock in df.index], names=['date', 'stock_code'])\n",
    "\n",
    "        # 折线图\n",
    "        ax1.plot(df.index.get_level_values('date'), df['price'], label='price', color='tab:blue', linewidth=1)\n",
    "        ax1.plot(df.index.get_level_values('date'), df['strategy'], label='strategy', color='tab:green', linestyle='dashed')\n",
    "\n",
    "        # 添加买卖点\n",
    "        buy_signals = df[df['sign'] == 1]\n",
    "        sell_signals = df[df['sign'] == -1]\n",
    "        ax1.scatter(buy_signals.index.get_level_values('date'), buy_signals['price'], color='red', label='buy', marker='o', s=15)\n",
    "        ax1.scatter(sell_signals.index.get_level_values('date'), sell_signals['price'], color='blue', label='sell', marker='o', s=15)\n",
    "\n",
    "        # 添加文本信息\n",
    "        textstr = f\"annual_return: {annual_return:.2%}\\nannual_volatility: {annual_volatility:.2%}\\nmax_drawdown: {max_drawdown:.2%}\\nsharpe_ratio: {sharpe_ratio:.2f}\"\n",
    "        ax1.text(df.index.get_level_values('date')[-int(len(df) * 0.2)], df['price'].max() * 0.9, textstr,\n",
    "                fontsize=12, bbox=dict(facecolor='white', alpha=0.6))\n",
    "\n",
    "        ax1.set_xlabel('date')\n",
    "        ax1.set_ylabel('net value')\n",
    "        ax1.set_title(f'stockcode {PnL.index[0][1]} return')\n",
    "        ax1.legend()\n",
    "        plt.grid(alpha=0.5)\n",
    "        plt.show()\n",
    "\n",
    "    return stockcode,annual_return, annual_volatility, max_drawdown, sharpe_ratio"
   ]
  },
  {
   "cell_type": "code",
   "execution_count": 3,
   "metadata": {},
   "outputs": [
    {
     "name": "stderr",
     "output_type": "stream",
     "text": [
      "100%|██████████| 5697/5697 [00:59<00:00, 95.07it/s] \n"
     ]
    }
   ],
   "source": [
    "# 获取股票列表\n",
    "today_stock = ak.stock_zh_a_spot_em()[['代码']]\n",
    "stock_code_list = sorted(today_stock['代码'].to_list())\n",
    "\n",
    "# 并行运算策略\n",
    "with Pool() as pool:\n",
    "    results = list(tqdm(pool.imap(MA_strategy, stock_code_list), total=len(stock_code_list)))\n",
    "\n",
    "# 保存策略结果\n",
    "stock_code_list = []\n",
    "stock_annual_return = []    \n",
    "stock_annual_volatility = []\n",
    "stock_max_drawdown = []\n",
    "stock_sharpe_ratio =[]\n",
    "for data in results:\n",
    "    stock_code_list.append(data[0])\n",
    "    stock_annual_return.append(data[1])\n",
    "    stock_annual_volatility.append(data[2])\n",
    "    stock_max_drawdown.append(data[3])\n",
    "    stock_sharpe_ratio.append(data[4])"
   ]
  },
  {
   "cell_type": "code",
   "execution_count": 4,
   "metadata": {},
   "outputs": [],
   "source": [
    "# 策略结果分析\n",
    "MA_strategy_result = pd.DataFrame(\n",
    "    {\n",
    "        'stockcode':stock_code_list,\n",
    "        'annual_return':stock_annual_return,\n",
    "        'annual_volatility':stock_annual_volatility,\n",
    "        'max_drawdown':stock_max_drawdown,\n",
    "        'sharpe_ratio':stock_sharpe_ratio,\n",
    "    }\n",
    ")\n",
    "MA_strategy_result.dropna(inplace=True)\n",
    "MA_strategy_result.set_index(['stockcode'],inplace=True)"
   ]
  },
  {
   "cell_type": "code",
   "execution_count": 12,
   "metadata": {},
   "outputs": [
    {
     "data": {
      "text/plain": [
       "annual_return        0.026607\n",
       "annual_volatility    0.367432\n",
       "max_drawdown        -0.508838\n",
       "sharpe_ratio         0.015856\n",
       "dtype: float64"
      ]
     },
     "execution_count": 12,
     "metadata": {},
     "output_type": "execute_result"
    }
   ],
   "source": [
    "MA_strategy_result.mean()"
   ]
  }
 ],
 "metadata": {
  "kernelspec": {
   "display_name": "quant",
   "language": "python",
   "name": "python3"
  },
  "language_info": {
   "codemirror_mode": {
    "name": "ipython",
    "version": 3
   },
   "file_extension": ".py",
   "mimetype": "text/x-python",
   "name": "python",
   "nbconvert_exporter": "python",
   "pygments_lexer": "ipython3",
   "version": "3.10.16"
  }
 },
 "nbformat": 4,
 "nbformat_minor": 2
}