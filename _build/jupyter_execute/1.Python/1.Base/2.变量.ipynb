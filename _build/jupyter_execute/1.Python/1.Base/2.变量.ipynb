{
 "cells": [
  {
   "cell_type": "markdown",
   "id": "ca923259",
   "metadata": {},
   "source": [
    "# 变量"
   ]
  },
  {
   "cell_type": "markdown",
   "id": "764a9c11",
   "metadata": {},
   "source": [
    "## 1. 变量的定义"
   ]
  },
  {
   "cell_type": "code",
   "execution_count": 1,
   "id": "8440d025",
   "metadata": {},
   "outputs": [
    {
     "name": "stdout",
     "output_type": "stream",
     "text": [
      "a = 10\n",
      "a = 20\n"
     ]
    }
   ],
   "source": [
    "a = 10              # 1.定义变量\n",
    "print(\"a =\", a)     # 2.打印变量\n",
    "a = 20              # 3.修改变量\n",
    "print(\"a =\", a)     # 4.打印修改后的变量"
   ]
  },
  {
   "cell_type": "markdown",
   "id": "1f106e29",
   "metadata": {},
   "source": [
    "<div style=\"\n",
    "  border-left: 5px solid #1e90ff;\n",
    "  background: linear-gradient(to right, #eef6fb, #f8fbff);\n",
    "  padding: 18px 24px;\n",
    "  margin: 24px 0;\n",
    "  border-radius: 6px;\n",
    "  box-shadow: 0 2px 5px rgba(0,0,0,0.05);\n",
    "  font-family: 'Segoe UI', Roboto, sans-serif;\n",
    "  font-size: 16px;\n",
    "  line-height: 1.75;\n",
    "  color: #003b5c;\n",
    "\">\n",
    "\n",
    "  <p style=\"margin: 0 0 10px 0; font-weight: bold; font-size: 17px;\">\n",
    "    📌 定义变量时，需注意：\n",
    "  </p>\n",
    "\n",
    "  <ul style=\"margin: 0; padding-left: 1.2em;\">\n",
    "    <li>变量名应 <strong>见名知意</strong>，便于阅读和维护</li>\n",
    "    <li>由 <code>字母</code>、<code>数字</code> 和 <code>下划线</code> 组成，<strong>但不能以数字开头</strong></li>\n",
    "    <li>Python 变量<strong>区分大小写</strong>，如 <code>Name</code> 和 <code>name</code> 是两个不同变量</li>\n",
    "  </ul>\n",
    "\n",
    "</div>\n"
   ]
  },
  {
   "cell_type": "markdown",
   "id": "fe40e97d",
   "metadata": {},
   "source": [
    "## 2. 变量类型"
   ]
  },
  {
   "cell_type": "markdown",
   "id": "1d74fc14",
   "metadata": {},
   "source": [
    "### 2.1 变量类型概述"
   ]
  },
  {
   "cell_type": "markdown",
   "id": "2ff45891",
   "metadata": {},
   "source": [
    "<div align=\"center\">\n",
    "  <table style=\"border-collapse: collapse; width: 80%; text-align: center; font-size: 16px;\">\n",
    "    <thead>\n",
    "      <tr style=\"background-color: #f2f2f2;\">\n",
    "        <th style=\"border: 1px solid #ccc; padding: 10px;\">类型</th>\n",
    "        <th style=\"border: 1px solid #ccc; padding: 10px;\">名称</th>\n",
    "        <th style=\"border: 1px solid #ccc; padding: 10px;\">示例</th>\n",
    "        <th style=\"border: 1px solid #ccc; padding: 10px;\">说明</th>\n",
    "      </tr>\n",
    "    </thead>\n",
    "    <tbody>\n",
    "      <tr>\n",
    "        <td style=\"border: 1px solid #ccc; padding: 10px;\"><code>int</code></td>\n",
    "        <td style=\"border: 1px solid #ccc; padding: 10px;\">整数</td>\n",
    "        <td style=\"border: 1px solid #ccc; padding: 10px;\"><code>1</code>, <code>-42</code></td>\n",
    "        <td style=\"border: 1px solid #ccc; padding: 10px;\">用于表示整数类型的数据</td>\n",
    "      </tr>\n",
    "      <tr style=\"background-color: #f9f9f9;\">\n",
    "        <td style=\"border: 1px solid #ccc; padding: 10px;\"><code>float</code></td>\n",
    "        <td style=\"border: 1px solid #ccc; padding: 10px;\">浮点数</td>\n",
    "        <td style=\"border: 1px solid #ccc; padding: 10px;\"><code>3.14</code>, <code>-0.5</code></td>\n",
    "        <td style=\"border: 1px solid #ccc; padding: 10px;\">表示小数或实数</td>\n",
    "      </tr>\n",
    "      <tr>\n",
    "        <td style=\"border: 1px solid #ccc; padding: 10px;\"><code>bool</code></td>\n",
    "        <td style=\"border: 1px solid #ccc; padding: 10px;\">布尔值</td>\n",
    "        <td style=\"border: 1px solid #ccc; padding: 10px;\"><code>True</code>, <code>False</code></td>\n",
    "        <td style=\"border: 1px solid #ccc; padding: 10px;\">用于逻辑判断，只有两个值</td>\n",
    "      </tr>\n",
    "      <tr style=\"background-color: #f9f9f9;\">\n",
    "        <td style=\"border: 1px solid #ccc; padding: 10px;\"><code>str</code></td>\n",
    "        <td style=\"border: 1px solid #ccc; padding: 10px;\">字符串</td>\n",
    "        <td style=\"border: 1px solid #ccc; padding: 10px;\"><code>\"hello\"</code>, <code>'123'</code></td>\n",
    "        <td style=\"border: 1px solid #ccc; padding: 10px;\">一串字符，用单引号或双引号括起来</td>\n",
    "      </tr>\n",
    "    </tbody>\n",
    "  </table>\n",
    "</div>\n"
   ]
  },
  {
   "cell_type": "markdown",
   "id": "5594e407",
   "metadata": {},
   "source": [
    "### 2.2 变量类型的定义、查看"
   ]
  },
  {
   "cell_type": "code",
   "execution_count": 2,
   "id": "757a12e0",
   "metadata": {},
   "outputs": [
    {
     "name": "stdout",
     "output_type": "stream",
     "text": [
      "100 的类型是 <class 'int'>\n",
      "3.14 的类型是 <class 'float'>\n",
      "True 的类型是 <class 'bool'>\n",
      "Hello, World! 的类型是 <class 'str'>\n"
     ]
    }
   ],
   "source": [
    "a = 100                         # int\n",
    "print(a,\"的类型是\", type(a))\n",
    "a = 3.14                        # float\n",
    "print(a,\"的类型是\", type(a))\n",
    "a = True                        # bool\n",
    "print(a,\"的类型是\", type(a))\n",
    "a = \"Hello, World!\"             # str\n",
    "print(a,\"的类型是\", type(a))"
   ]
  },
  {
   "cell_type": "markdown",
   "id": "9119b3b8",
   "metadata": {},
   "source": [
    "<div style=\"\n",
    "  border-left: 5px solid #1e90ff;\n",
    "  background: linear-gradient(to right, #eef6fb, #f8fbff);\n",
    "  padding: 16px 24px;\n",
    "  margin: 24px 0;\n",
    "  border-radius: 6px;\n",
    "  box-shadow: 0 2px 6px rgba(0,0,0,0.05);\n",
    "  font-family: 'Segoe UI', Roboto, sans-serif;\n",
    "  font-size: 16px;\n",
    "  line-height: 1.75;\n",
    "  color: #003b5c;\n",
    "\">\n",
    "  <p style=\"margin: 0;\">\n",
    "    <strong>📌 提示：</strong>\n",
    "    多行字符串需要使用 <code style=\"background-color: #e3f2fd; padding: 2px 5px; border-radius: 4px;\">\"\"\"</code> 或 <code style=\"background-color: #e3f2fd; padding: 2px 5px; border-radius: 4px;\">'''</code> 包裹。\n",
    "  </p>\n",
    "</div>\n"
   ]
  },
  {
   "cell_type": "markdown",
   "id": "de7cdd37",
   "metadata": {},
   "source": [
    "### 2.3 变量类型转换"
   ]
  },
  {
   "cell_type": "code",
   "execution_count": 3,
   "id": "c7c2f3f9",
   "metadata": {},
   "outputs": [
    {
     "name": "stdout",
     "output_type": "stream",
     "text": [
      "10.1 的类型是 <class 'float'>\n",
      "10 的类型是 <class 'int'>\n"
     ]
    }
   ],
   "source": [
    "a = 10.1\n",
    "print(a,\"的类型是\", type(a))\n",
    "print(int(a),\"的类型是\", type(int(a)))"
   ]
  },
  {
   "cell_type": "markdown",
   "id": "79e1c5d3",
   "metadata": {},
   "source": [
    "&emsp;&emsp;在 Python 中，不同类型的变量可以通过内置函数进行转换，常见的转换函数如下：\n",
    "\n",
    "<div align=\"center\">\n",
    "  <table style=\"border-collapse: collapse; width: 90%; text-align: center; font-size: 16px;\">\n",
    "    <thead style=\"background-color: #f2f2f2;\">\n",
    "      <tr>\n",
    "        <th style=\"border: 1px solid #ccc; padding: 10px;\">函数</th>\n",
    "        <th style=\"border: 1px solid #ccc; padding: 10px;\">作用</th>\n",
    "        <th style=\"border: 1px solid #ccc; padding: 10px;\">示例</th>\n",
    "        <th style=\"border: 1px solid #ccc; padding: 10px;\">结果</th>\n",
    "      </tr>\n",
    "    </thead>\n",
    "    <tbody>\n",
    "      <tr>\n",
    "        <td style=\"border: 1px solid #ccc; padding: 10px;\"><code>int()</code></td>\n",
    "        <td style=\"border: 1px solid #ccc; padding: 10px;\">转为整数</td>\n",
    "        <td style=\"border: 1px solid #ccc; padding: 10px;\"><code>int(3.7)</code></td>\n",
    "        <td style=\"border: 1px solid #ccc; padding: 10px;\"><code>3</code></td>\n",
    "      </tr>\n",
    "      <tr style=\"background-color: #f9f9f9;\">\n",
    "        <td style=\"border: 1px solid #ccc; padding: 10px;\"><code>float()</code></td>\n",
    "        <td style=\"border: 1px solid #ccc; padding: 10px;\">转为浮点数</td>\n",
    "        <td style=\"border: 1px solid #ccc; padding: 10px;\"><code>float(5)</code></td>\n",
    "        <td style=\"border: 1px solid #ccc; padding: 10px;\"><code>5.0</code></td>\n",
    "      </tr>\n",
    "      <tr>\n",
    "        <td style=\"border: 1px solid #ccc; padding: 10px;\"><code>str()</code></td>\n",
    "        <td style=\"border: 1px solid #ccc; padding: 10px;\">转为字符串</td>\n",
    "        <td style=\"border: 1px solid #ccc; padding: 10px;\"><code>str(100)</code></td>\n",
    "        <td style=\"border: 1px solid #ccc; padding: 10px;\"><code>\"100\"</code></td>\n",
    "      </tr>\n",
    "      <tr style=\"background-color: #f9f9f9;\">\n",
    "        <td style=\"border: 1px solid #ccc; padding: 10px;\"><code>bool()</code></td>\n",
    "        <td style=\"border: 1px solid #ccc; padding: 10px;\">转为布尔值</td>\n",
    "        <td style=\"border: 1px solid #ccc; padding: 10px;\"><code>bool(0)</code></td>\n",
    "        <td style=\"border: 1px solid #ccc; padding: 10px;\"><code>False</code></td>\n",
    "      </tr>\n",
    "    </tbody>\n",
    "  </table>\n",
    "</div>\n",
    "<br>\n",
    "<br>"
   ]
  },
  {
   "cell_type": "code",
   "execution_count": 4,
   "id": "575a92e3",
   "metadata": {},
   "outputs": [
    {
     "name": "stdout",
     "output_type": "stream",
     "text": [
      "a = 10.9, 转化后int(a) = 10\n",
      "b = '123'，转化后 int(b) = 123\n",
      "c = 0, 转化后bool(c) = False\n",
      "d = 3, 转化后float(d) = 3.0\n"
     ]
    }
   ],
   "source": [
    "a = 10.9\n",
    "print(\"a = 10.9, 转化后int(a) =\", int(a))    # 转为整数：10\n",
    "b = \"123\"\n",
    "print(\"b = '123'，转化后 int(b) =\", int(b))  # 字符串转整数：123\n",
    "c = 0\n",
    "print(\"c = 0, 转化后bool(c) =\", bool(c))     # False，0在布尔中为假\n",
    "d = 3\n",
    "print(\"d = 3, 转化后float(d) =\", float(d))   # 转为浮点数：3.0\n"
   ]
  },
  {
   "cell_type": "markdown",
   "id": "fe3424d1",
   "metadata": {},
   "source": [
    "<div style=\"\n",
    "  border-left: 4px solid #007acc;\n",
    "  background-color: #eef6fb;\n",
    "  padding: 16px 20px;\n",
    "  margin: 20px 0;\n",
    "  color: #003b5c;\n",
    "  font-family: 'Times New Roman', serif;\n",
    "  font-size: 16px;\n",
    "  line-height: 1.6;\n",
    "  border-radius: 4px;\n",
    "\">\n",
    "  <strong>✅ 注意事项：</strong><br>\n",
    "  • <code>int()</code>、<code>float()</code> 等函数只能转换合法格式的字符串，例如 <code>int(\"12\")</code> 可行，但 <code>int(\"abc\")</code> 会报错；<br><br>\n",
    "  • <code>int()</code> 对 <code>float</code> 类型使用，会降低精度<br><br>\n",
    "  • <code>bool()</code> 中：<code>0</code>、空字符串 <code>\"\"</code>、空列表 <code>[]</code>、空字典 <code>{}</code> 等都被视为 <code>False</code>；<br><br>\n",
    "  • <code>str()</code> 可将任意对象转换为字符串形式。\n",
    "</div>\n"
   ]
  }
 ],
 "metadata": {
  "kernelspec": {
   "display_name": "base",
   "language": "python",
   "name": "python3"
  },
  "language_info": {
   "codemirror_mode": {
    "name": "ipython",
    "version": 3
   },
   "file_extension": ".py",
   "mimetype": "text/x-python",
   "name": "python",
   "nbconvert_exporter": "python",
   "pygments_lexer": "ipython3",
   "version": "3.10.16"
  }
 },
 "nbformat": 4,
 "nbformat_minor": 5
}