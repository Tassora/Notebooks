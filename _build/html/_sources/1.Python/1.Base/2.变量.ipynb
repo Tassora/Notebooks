{
 "cells": [
  {
   "cell_type": "markdown",
   "id": "ca923259",
   "metadata": {},
   "source": [
    "# 变量"
   ]
  },
  {
   "cell_type": "markdown",
   "id": "764a9c11",
   "metadata": {},
   "source": [
    "## 1. 变量的定义"
   ]
  },
  {
   "cell_type": "code",
   "execution_count": 1,
   "id": "8440d025",
   "metadata": {},
   "outputs": [
    {
     "name": "stdout",
     "output_type": "stream",
     "text": [
      "a = 10\n",
      "a = 20\n"
     ]
    }
   ],
   "source": [
    "a = 10              # 1.定义变量\n",
    "print(\"a =\", a)     # 2.打印变量\n",
    "a = 20              # 3.修改变量\n",
    "print(\"a =\", a)     # 4.打印修改后的变量"
   ]
  },
  {
   "cell_type": "markdown",
   "id": "fe40e97d",
   "metadata": {},
   "source": [
    "## 2. 变量类型"
   ]
  },
  {
   "cell_type": "markdown",
   "id": "1d74fc14",
   "metadata": {},
   "source": [
    "### 2.1 变量类型概述"
   ]
  },
  {
   "cell_type": "markdown",
   "id": "2ff45891",
   "metadata": {},
   "source": [
    "<div align=\"center\">\n",
    "  <table style=\"border-collapse: collapse; width: 80%; text-align: center; font-size: 16px;\">\n",
    "    <thead>\n",
    "      <tr style=\"background-color: #f2f2f2;\">\n",
    "        <th style=\"border: 1px solid #ccc; padding: 10px;\">类型</th>\n",
    "        <th style=\"border: 1px solid #ccc; padding: 10px;\">名称</th>\n",
    "        <th style=\"border: 1px solid #ccc; padding: 10px;\">示例</th>\n",
    "        <th style=\"border: 1px solid #ccc; padding: 10px;\">说明</th>\n",
    "      </tr>\n",
    "    </thead>\n",
    "    <tbody>\n",
    "      <tr>\n",
    "        <td style=\"border: 1px solid #ccc; padding: 10px;\"><code>int</code></td>\n",
    "        <td style=\"border: 1px solid #ccc; padding: 10px;\">整数</td>\n",
    "        <td style=\"border: 1px solid #ccc; padding: 10px;\"><code>1</code>, <code>-42</code></td>\n",
    "        <td style=\"border: 1px solid #ccc; padding: 10px;\">用于表示整数类型的数据</td>\n",
    "      </tr>\n",
    "      <tr style=\"background-color: #f9f9f9;\">\n",
    "        <td style=\"border: 1px solid #ccc; padding: 10px;\"><code>float</code></td>\n",
    "        <td style=\"border: 1px solid #ccc; padding: 10px;\">浮点数</td>\n",
    "        <td style=\"border: 1px solid #ccc; padding: 10px;\"><code>3.14</code>, <code>-0.5</code></td>\n",
    "        <td style=\"border: 1px solid #ccc; padding: 10px;\">表示小数或实数</td>\n",
    "      </tr>\n",
    "      <tr>\n",
    "        <td style=\"border: 1px solid #ccc; padding: 10px;\"><code>bool</code></td>\n",
    "        <td style=\"border: 1px solid #ccc; padding: 10px;\">布尔值</td>\n",
    "        <td style=\"border: 1px solid #ccc; padding: 10px;\"><code>True</code>, <code>False</code></td>\n",
    "        <td style=\"border: 1px solid #ccc; padding: 10px;\">用于逻辑判断，只有两个值</td>\n",
    "      </tr>\n",
    "      <tr style=\"background-color: #f9f9f9;\">\n",
    "        <td style=\"border: 1px solid #ccc; padding: 10px;\"><code>str</code></td>\n",
    "        <td style=\"border: 1px solid #ccc; padding: 10px;\">字符串</td>\n",
    "        <td style=\"border: 1px solid #ccc; padding: 10px;\"><code>\"hello\"</code>, <code>'123'</code></td>\n",
    "        <td style=\"border: 1px solid #ccc; padding: 10px;\">一串字符，用单引号或双引号括起来</td>\n",
    "      </tr>\n",
    "    </tbody>\n",
    "  </table>\n",
    "</div>\n"
   ]
  },
  {
   "cell_type": "markdown",
   "id": "5594e407",
   "metadata": {},
   "source": [
    "### 2.2 变量类型的定义、查看"
   ]
  },
  {
   "cell_type": "markdown",
   "id": "a77ee189",
   "metadata": {},
   "source": [
    "- `int` 类型"
   ]
  },
  {
   "cell_type": "code",
   "execution_count": null,
   "id": "757a12e0",
   "metadata": {},
   "outputs": [
    {
     "name": "stdout",
     "output_type": "stream",
     "text": [
      "100 的类型是 <class 'int'>\n"
     ]
    }
   ],
   "source": [
    "a = 100\n",
    "print(a,\"的类型是\", type(a))"
   ]
  },
  {
   "cell_type": "markdown",
   "id": "873230b2",
   "metadata": {},
   "source": [
    "- `float` 类型"
   ]
  },
  {
   "cell_type": "code",
   "execution_count": 4,
   "id": "c4f306fa",
   "metadata": {},
   "outputs": [
    {
     "name": "stdout",
     "output_type": "stream",
     "text": [
      "3.14 的类型是 <class 'float'>\n"
     ]
    }
   ],
   "source": [
    "a = 3.14\n",
    "print(a,\"的类型是\", type(a))"
   ]
  },
  {
   "cell_type": "markdown",
   "id": "2b58a854",
   "metadata": {},
   "source": [
    "- `bool` 类型"
   ]
  },
  {
   "cell_type": "code",
   "execution_count": 5,
   "id": "4e0baf32",
   "metadata": {},
   "outputs": [
    {
     "name": "stdout",
     "output_type": "stream",
     "text": [
      "True 的类型是 <class 'bool'>\n"
     ]
    }
   ],
   "source": [
    "a = True\n",
    "print(a,\"的类型是\", type(a))"
   ]
  },
  {
   "cell_type": "markdown",
   "id": "813c8fb5",
   "metadata": {},
   "source": [
    "- `str` 类型"
   ]
  },
  {
   "cell_type": "code",
   "execution_count": 6,
   "id": "1ec57322",
   "metadata": {},
   "outputs": [
    {
     "name": "stdout",
     "output_type": "stream",
     "text": [
      "Hello, World! 的类型是 <class 'str'>\n"
     ]
    }
   ],
   "source": [
    "a = \"Hello, World!\"\n",
    "print(a,\"的类型是\", type(a))"
   ]
  },
  {
   "cell_type": "code",
   "execution_count": 13,
   "id": "cfb43522",
   "metadata": {},
   "outputs": [
    {
     "name": "stdout",
     "output_type": "stream",
     "text": [
      "\n",
      "这是一个多行字符串\n",
      "可以用来存储长文本信息。\n",
      " 的类型是 <class 'str'>\n"
     ]
    }
   ],
   "source": [
    "name = \"\"\"\n",
    "这是一个多行字符串\n",
    "可以用来存储长文本信息。\n",
    "\"\"\"\n",
    "print(name, \"的类型是\", type(name))"
   ]
  },
  {
   "cell_type": "markdown",
   "id": "9119b3b8",
   "metadata": {},
   "source": [
    "<div style=\"\n",
    "  border-left: 4px solid #007acc;\n",
    "  background-color: #eef6fb;\n",
    "  padding: 16px 20px;\n",
    "  margin: 20px 0;\n",
    "  color: #003b5c;\n",
    "  font-family: 'Times New Roman', serif;\n",
    "  font-size: 16px;\n",
    "  line-height: 1.6;\n",
    "  border-radius: 4px;\n",
    "\">\n",
    "  <strong>📌 提示：</strong>多行字符串，需要使用 <code>\"\"\"</code>\n",
    "</div>"
   ]
  },
  {
   "cell_type": "markdown",
   "id": "de7cdd37",
   "metadata": {},
   "source": [
    "### 2.3 变量类型修改"
   ]
  },
  {
   "cell_type": "code",
   "execution_count": null,
   "id": "c7c2f3f9",
   "metadata": {},
   "outputs": [
    {
     "name": "stdout",
     "output_type": "stream",
     "text": [
      "10.1 的类型是 <class 'float'>\n",
      "10 的类型是 <class 'int'>\n"
     ]
    }
   ],
   "source": [
    "a = 10.1\n",
    "print(a,\"的类型是\", type(a))\n",
    "print(int(a),\"的类型是\", type(int(a)))"
   ]
  }
 ],
 "metadata": {
  "kernelspec": {
   "display_name": "base",
   "language": "python",
   "name": "python3"
  },
  "language_info": {
   "codemirror_mode": {
    "name": "ipython",
    "version": 3
   },
   "file_extension": ".py",
   "mimetype": "text/x-python",
   "name": "python",
   "nbconvert_exporter": "python",
   "pygments_lexer": "ipython3",
   "version": "3.10.16"
  }
 },
 "nbformat": 4,
 "nbformat_minor": 5
}
